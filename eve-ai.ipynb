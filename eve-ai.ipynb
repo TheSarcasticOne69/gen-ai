{
 "cells": [
  {
   "cell_type": "markdown",
   "id": "8c0bd248",
   "metadata": {
    "papermill": {
     "duration": 0.004854,
     "end_time": "2025-04-16T03:07:21.381535",
     "exception": false,
     "start_time": "2025-04-16T03:07:21.376681",
     "status": "completed"
    },
    "tags": []
   },
   "source": [
    "# 💡 Intro (The Why)\n",
    "\n",
    "Mental health is a deeply personal and pressing issue, and while AI can't replace a therapist, it *can* offer gentle support, encouragement, and structure for people navigating hard days. \n",
    "\n",
    "As part of the GenAI Intensive Capstone with Google, I built **Eve.ai** — a mental wellness companion powered by Gemini models. It helps users reflect, track their mood, and receive supportive affirmations and mindfulness tips — all in a non-judgmental, kind voice."
   ]
  },
  {
   "cell_type": "markdown",
   "id": "e6fe72cd",
   "metadata": {
    "papermill": {
     "duration": 0.003545,
     "end_time": "2025-04-16T03:07:21.389109",
     "exception": false,
     "start_time": "2025-04-16T03:07:21.385564",
     "status": "completed"
    },
    "tags": []
   },
   "source": [
    "# 🧱 The Problem\n",
    "\n",
    "Many people struggle to articulate how they’re feeling, especially in stressful moments. Having a tool that can gently classify emotions, offer a supportive message, and suggest a grounding technique can be empowering.\n",
    "\n",
    "I wanted to create something that made emotional self-reflection easier — using GenAI.\n"
   ]
  },
  {
   "cell_type": "markdown",
   "id": "11e61acd",
   "metadata": {
    "papermill": {
     "duration": 0.003449,
     "end_time": "2025-04-16T03:07:21.396467",
     "exception": false,
     "start_time": "2025-04-16T03:07:21.393018",
     "status": "completed"
    },
    "tags": []
   },
   "source": [
    "\n",
    "# 🛠️ How It Works\n",
    "1. **User inputs a journal-like message**:  \n",
    "   Example: *“I’m feeling overwhelmed and disconnected from everything lately.”*\n",
    "\n",
    "2. **Gemini classifies their mood** using few-shot prompts + structured JSON output.  \n",
    "   Output: `{ \"mood\": \"disconnected\", \"sentiement_score\": -0.87, \"suggested_action\" : go for walk... }`\n",
    "\n",
    "3. **Gemini generates a supportive message** based on tone & mood.  \n",
    "   Example: *“It’s okay to feel disconnected. Just naming your feelings is an act of self-kindness.”*\n",
    "\n",
    "4. **RAG system fetches a wellness tip** from a preloaded library of CBT/mindfulness techniques using **Gemini embeddings** + **ChromaDB**.\n",
    "\n",
    "5. The response is displayed with the user’s mood, the affirmation, and the tip.\n"
   ]
  },
  {
   "cell_type": "markdown",
   "id": "ac23abe4",
   "metadata": {
    "papermill": {
     "duration": 0.003388,
     "end_time": "2025-04-16T03:07:21.403587",
     "exception": false,
     "start_time": "2025-04-16T03:07:21.400199",
     "status": "completed"
    },
    "tags": []
   },
   "source": [
    "# 🧪 Sample Output\n",
    "🧠 Mood: Anxious\n",
    "\n",
    "💬 Support: You're doing the best you can, and that’s enough. It's okay to pause and breathe.\n",
    "\n",
    "🌿 Tip: Try the “5-4-3-2-1” grounding technique: list 5 things you see, 4 you can touch, 3 you hear...\n"
   ]
  },
  {
   "cell_type": "markdown",
   "id": "c466ce0f",
   "metadata": {
    "papermill": {
     "duration": 0.003343,
     "end_time": "2025-04-16T03:07:21.410753",
     "exception": false,
     "start_time": "2025-04-16T03:07:21.407410",
     "status": "completed"
    },
    "tags": []
   },
   "source": [
    "# 🤔 Limitations\n",
    "- Not a replacement for therapy\n",
    "- Mood classification may oversimplify emotional nuance\n",
    "- Needs careful prompting to avoid toxic positivity or inappropriate advice\n"
   ]
  },
  {
   "cell_type": "markdown",
   "id": "282a97ad",
   "metadata": {
    "papermill": {
     "duration": 0.003423,
     "end_time": "2025-04-16T03:07:21.418164",
     "exception": false,
     "start_time": "2025-04-16T03:07:21.414741",
     "status": "completed"
    },
    "tags": []
   },
   "source": [
    "# 🚀 What’s Next\n",
    "- Track mood over time and visualize progress\n",
    "- Add journaling insights via LLM-based summaries\n",
    "- Let users download emotional “reflections” for therapy or self-work\n"
   ]
  },
  {
   "cell_type": "markdown",
   "id": "45e353dc",
   "metadata": {
    "papermill": {
     "duration": 0.003396,
     "end_time": "2025-04-16T03:07:21.425415",
     "exception": false,
     "start_time": "2025-04-16T03:07:21.422019",
     "status": "completed"
    },
    "tags": []
   },
   "source": [
    "# 🧘 Closing Note\n",
    "AI can’t heal us — but it can hold space.\n",
    "That’s what Eve.ai tries to do."
   ]
  },
  {
   "cell_type": "code",
   "execution_count": 1,
   "id": "cd7cfb64",
   "metadata": {
    "execution": {
     "iopub.execute_input": "2025-04-16T03:07:21.434241Z",
     "iopub.status.busy": "2025-04-16T03:07:21.433825Z",
     "iopub.status.idle": "2025-04-16T03:08:06.994659Z",
     "shell.execute_reply": "2025-04-16T03:08:06.992808Z"
    },
    "papermill": {
     "duration": 45.567661,
     "end_time": "2025-04-16T03:08:06.996675",
     "exception": false,
     "start_time": "2025-04-16T03:07:21.429014",
     "status": "completed"
    },
    "tags": []
   },
   "outputs": [
    {
     "name": "stdout",
     "output_type": "stream",
     "text": [
      "\u001b[33mWARNING: Skipping kfp as it is not installed.\u001b[0m\u001b[33m\r\n",
      "\u001b[2K     \u001b[90m━━━━━━━━━━━━━━━━━━━━━━━━━━━━━━━━━━━━━━━━\u001b[0m \u001b[32m67.3/67.3 kB\u001b[0m \u001b[31m3.3 MB/s\u001b[0m eta \u001b[36m0:00:00\u001b[0m\r\n",
      "\u001b[?25h  Installing build dependencies ... \u001b[?25l\u001b[?25hdone\r\n",
      "  Getting requirements to build wheel ... \u001b[?25l\u001b[?25hdone\r\n",
      "  Preparing metadata (pyproject.toml) ... \u001b[?25l\u001b[?25hdone\r\n",
      "\u001b[2K   \u001b[90m━━━━━━━━━━━━━━━━━━━━━━━━━━━━━━━━━━━━━━━━\u001b[0m \u001b[32m144.7/144.7 kB\u001b[0m \u001b[31m5.3 MB/s\u001b[0m eta \u001b[36m0:00:00\u001b[0m\r\n",
      "\u001b[2K   \u001b[90m━━━━━━━━━━━━━━━━━━━━━━━━━━━━━━━━━━━━━━━━\u001b[0m \u001b[32m611.1/611.1 kB\u001b[0m \u001b[31m18.2 MB/s\u001b[0m eta \u001b[36m0:00:00\u001b[0m\r\n",
      "\u001b[2K   \u001b[90m━━━━━━━━━━━━━━━━━━━━━━━━━━━━━━━━━━━━━━━━\u001b[0m \u001b[32m2.4/2.4 MB\u001b[0m \u001b[31m56.8 MB/s\u001b[0m eta \u001b[36m0:00:00\u001b[0m\r\n",
      "\u001b[2K   \u001b[90m━━━━━━━━━━━━━━━━━━━━━━━━━━━━━━━━━━━━━━━━\u001b[0m \u001b[32m100.9/100.9 kB\u001b[0m \u001b[31m4.5 MB/s\u001b[0m eta \u001b[36m0:00:00\u001b[0m\r\n",
      "\u001b[2K   \u001b[90m━━━━━━━━━━━━━━━━━━━━━━━━━━━━━━━━━━━━━━━━\u001b[0m \u001b[32m284.2/284.2 kB\u001b[0m \u001b[31m12.9 MB/s\u001b[0m eta \u001b[36m0:00:00\u001b[0m\r\n",
      "\u001b[2K   \u001b[90m━━━━━━━━━━━━━━━━━━━━━━━━━━━━━━━━━━━━━━━━\u001b[0m \u001b[32m95.2/95.2 kB\u001b[0m \u001b[31m4.6 MB/s\u001b[0m eta \u001b[36m0:00:00\u001b[0m\r\n",
      "\u001b[2K   \u001b[90m━━━━━━━━━━━━━━━━━━━━━━━━━━━━━━━━━━━━━━━━\u001b[0m \u001b[32m2.0/2.0 MB\u001b[0m \u001b[31m51.5 MB/s\u001b[0m eta \u001b[36m0:00:00\u001b[0m\r\n",
      "\u001b[2K   \u001b[90m━━━━━━━━━━━━━━━━━━━━━━━━━━━━━━━━━━━━━━━━\u001b[0m \u001b[32m101.6/101.6 kB\u001b[0m \u001b[31m2.9 MB/s\u001b[0m eta \u001b[36m0:00:00\u001b[0m\r\n",
      "\u001b[2K   \u001b[90m━━━━━━━━━━━━━━━━━━━━━━━━━━━━━━━━━━━━━━━━\u001b[0m \u001b[32m16.0/16.0 MB\u001b[0m \u001b[31m67.6 MB/s\u001b[0m eta \u001b[36m0:00:00\u001b[0m\r\n",
      "\u001b[2K   \u001b[90m━━━━━━━━━━━━━━━━━━━━━━━━━━━━━━━━━━━━━━━━\u001b[0m \u001b[32m55.9/55.9 kB\u001b[0m \u001b[31m2.6 MB/s\u001b[0m eta \u001b[36m0:00:00\u001b[0m\r\n",
      "\u001b[2K   \u001b[90m━━━━━━━━━━━━━━━━━━━━━━━━━━━━━━━━━━━━━━━━\u001b[0m \u001b[32m188.4/188.4 kB\u001b[0m \u001b[31m9.6 MB/s\u001b[0m eta \u001b[36m0:00:00\u001b[0m\r\n",
      "\u001b[2K   \u001b[90m━━━━━━━━━━━━━━━━━━━━━━━━━━━━━━━━━━━━━━━━\u001b[0m \u001b[32m65.3/65.3 kB\u001b[0m \u001b[31m2.9 MB/s\u001b[0m eta \u001b[36m0:00:00\u001b[0m\r\n",
      "\u001b[2K   \u001b[90m━━━━━━━━━━━━━━━━━━━━━━━━━━━━━━━━━━━━━━━━\u001b[0m \u001b[32m119.0/119.0 kB\u001b[0m \u001b[31m6.2 MB/s\u001b[0m eta \u001b[36m0:00:00\u001b[0m\r\n",
      "\u001b[2K   \u001b[90m━━━━━━━━━━━━━━━━━━━━━━━━━━━━━━━━━━━━━━━━\u001b[0m \u001b[32m89.1/89.1 kB\u001b[0m \u001b[31m3.9 MB/s\u001b[0m eta \u001b[36m0:00:00\u001b[0m\r\n",
      "\u001b[2K   \u001b[90m━━━━━━━━━━━━━━━━━━━━━━━━━━━━━━━━━━━━━━━━\u001b[0m \u001b[32m62.4/62.4 kB\u001b[0m \u001b[31m2.5 MB/s\u001b[0m eta \u001b[36m0:00:00\u001b[0m\r\n",
      "\u001b[2K   \u001b[90m━━━━━━━━━━━━━━━━━━━━━━━━━━━━━━━━━━━━━━━━\u001b[0m \u001b[32m459.8/459.8 kB\u001b[0m \u001b[31m17.4 MB/s\u001b[0m eta \u001b[36m0:00:00\u001b[0m\r\n",
      "\u001b[2K   \u001b[90m━━━━━━━━━━━━━━━━━━━━━━━━━━━━━━━━━━━━━━━━\u001b[0m \u001b[32m319.7/319.7 kB\u001b[0m \u001b[31m12.7 MB/s\u001b[0m eta \u001b[36m0:00:00\u001b[0m\r\n",
      "\u001b[2K   \u001b[90m━━━━━━━━━━━━━━━━━━━━━━━━━━━━━━━━━━━━━━━━\u001b[0m \u001b[32m72.0/72.0 kB\u001b[0m \u001b[31m3.8 MB/s\u001b[0m eta \u001b[36m0:00:00\u001b[0m\r\n",
      "\u001b[2K   \u001b[90m━━━━━━━━━━━━━━━━━━━━━━━━━━━━━━━━━━━━━━━━\u001b[0m \u001b[32m4.0/4.0 MB\u001b[0m \u001b[31m65.1 MB/s\u001b[0m eta \u001b[36m0:00:00\u001b[0m\r\n",
      "\u001b[2K   \u001b[90m━━━━━━━━━━━━━━━━━━━━━━━━━━━━━━━━━━━━━━━━\u001b[0m \u001b[32m454.8/454.8 kB\u001b[0m \u001b[31m19.3 MB/s\u001b[0m eta \u001b[36m0:00:00\u001b[0m\r\n",
      "\u001b[2K   \u001b[90m━━━━━━━━━━━━━━━━━━━━━━━━━━━━━━━━━━━━━━━━\u001b[0m \u001b[32m46.0/46.0 kB\u001b[0m \u001b[31m2.0 MB/s\u001b[0m eta \u001b[36m0:00:00\u001b[0m\r\n",
      "\u001b[2K   \u001b[90m━━━━━━━━━━━━━━━━━━━━━━━━━━━━━━━━━━━━━━━━\u001b[0m \u001b[32m86.8/86.8 kB\u001b[0m \u001b[31m4.3 MB/s\u001b[0m eta \u001b[36m0:00:00\u001b[0m\r\n",
      "\u001b[?25h  Building wheel for pypika (pyproject.toml) ... \u001b[?25l\u001b[?25hdone\r\n",
      "\u001b[31mERROR: pip's dependency resolver does not currently take into account all the packages that are installed. This behaviour is the source of the following dependency conflicts.\r\n",
      "jupyterlab-lsp 3.10.2 requires jupyterlab<4.0.0a0,>=3.1.0, which is not installed.\r\n",
      "google-cloud-translate 3.12.1 requires protobuf!=3.20.0,!=3.20.1,!=4.21.0,!=4.21.1,!=4.21.2,!=4.21.3,!=4.21.4,!=4.21.5,<5.0.0dev,>=3.19.5, but you have protobuf 5.29.4 which is incompatible.\r\n",
      "google-api-core 1.34.1 requires protobuf!=3.20.0,!=3.20.1,!=4.21.0,!=4.21.1,!=4.21.2,!=4.21.3,!=4.21.4,!=4.21.5,<4.0.0dev,>=3.19.5, but you have protobuf 5.29.4 which is incompatible.\r\n",
      "google-spark-connect 0.5.2 requires google-api-core>=2.19.1, but you have google-api-core 1.34.1 which is incompatible.\r\n",
      "pandas-gbq 0.26.1 requires google-api-core<3.0.0dev,>=2.10.2, but you have google-api-core 1.34.1 which is incompatible.\r\n",
      "bigframes 1.36.0 requires rich<14,>=12.4.4, but you have rich 14.0.0 which is incompatible.\r\n",
      "google-cloud-bigtable 2.28.1 requires google-api-core[grpc]<3.0.0dev,>=2.16.0, but you have google-api-core 1.34.1 which is incompatible.\u001b[0m\u001b[31m\r\n",
      "\u001b[0m"
     ]
    }
   ],
   "source": [
    "!pip uninstall -qqy jupyterlab kfp  # Remove unused conflicting packages\n",
    "!pip install -qU \"google-genai==1.7.0\" \"chromadb==0.6.3\""
   ]
  },
  {
   "cell_type": "code",
   "execution_count": 2,
   "id": "c7f11e99",
   "metadata": {
    "execution": {
     "iopub.execute_input": "2025-04-16T03:08:07.011435Z",
     "iopub.status.busy": "2025-04-16T03:08:07.010993Z",
     "iopub.status.idle": "2025-04-16T03:08:08.412458Z",
     "shell.execute_reply": "2025-04-16T03:08:08.411436Z"
    },
    "jupyter": {
     "source_hidden": true
    },
    "papermill": {
     "duration": 1.41074,
     "end_time": "2025-04-16T03:08:08.414101",
     "exception": false,
     "start_time": "2025-04-16T03:08:07.003361",
     "status": "completed"
    },
    "tags": []
   },
   "outputs": [
    {
     "data": {
      "text/plain": [
       "'1.7.0'"
      ]
     },
     "execution_count": 2,
     "metadata": {},
     "output_type": "execute_result"
    }
   ],
   "source": [
    "from google import genai\n",
    "from google.genai import types\n",
    "from IPython.display import Markdown\n",
    "import typing_extensions as typ\n",
    "genai.__version__"
   ]
  },
  {
   "cell_type": "code",
   "execution_count": 3,
   "id": "77415c92",
   "metadata": {
    "execution": {
     "iopub.execute_input": "2025-04-16T03:08:08.428202Z",
     "iopub.status.busy": "2025-04-16T03:08:08.427720Z",
     "iopub.status.idle": "2025-04-16T03:08:08.616978Z",
     "shell.execute_reply": "2025-04-16T03:08:08.616055Z"
    },
    "jupyter": {
     "source_hidden": true
    },
    "papermill": {
     "duration": 0.198288,
     "end_time": "2025-04-16T03:08:08.618708",
     "exception": false,
     "start_time": "2025-04-16T03:08:08.420420",
     "status": "completed"
    },
    "tags": []
   },
   "outputs": [],
   "source": [
    "from google.api_core import retry\n",
    "\n",
    "\n",
    "is_retriable = lambda e: (isinstance(e, genai.errors.APIError) and e.code in {429, 503})\n",
    "\n",
    "genai.models.Models.generate_content = retry.Retry(\n",
    "    predicate=is_retriable)(genai.models.Models.generate_content)"
   ]
  },
  {
   "cell_type": "code",
   "execution_count": 4,
   "id": "f5a5d497",
   "metadata": {
    "execution": {
     "iopub.execute_input": "2025-04-16T03:08:08.632057Z",
     "iopub.status.busy": "2025-04-16T03:08:08.631560Z",
     "iopub.status.idle": "2025-04-16T03:08:09.183112Z",
     "shell.execute_reply": "2025-04-16T03:08:09.181730Z"
    },
    "jupyter": {
     "source_hidden": true
    },
    "papermill": {
     "duration": 0.560596,
     "end_time": "2025-04-16T03:08:09.185296",
     "exception": false,
     "start_time": "2025-04-16T03:08:08.624700",
     "status": "completed"
    },
    "tags": []
   },
   "outputs": [],
   "source": [
    "from kaggle_secrets import UserSecretsClient\n",
    "\n",
    "GOOGLE_API_KEY = UserSecretsClient().get_secret(\"GOOGLE_API_KEY\")\n",
    "\n",
    "client = genai.Client(api_key=GOOGLE_API_KEY)"
   ]
  },
  {
   "cell_type": "code",
   "execution_count": 5,
   "id": "fda88c14",
   "metadata": {
    "execution": {
     "iopub.execute_input": "2025-04-16T03:08:09.199939Z",
     "iopub.status.busy": "2025-04-16T03:08:09.199546Z",
     "iopub.status.idle": "2025-04-16T03:08:10.228123Z",
     "shell.execute_reply": "2025-04-16T03:08:10.227105Z"
    },
    "jupyter": {
     "source_hidden": true
    },
    "papermill": {
     "duration": 1.038459,
     "end_time": "2025-04-16T03:08:10.230264",
     "exception": false,
     "start_time": "2025-04-16T03:08:09.191805",
     "status": "completed"
    },
    "tags": []
   },
   "outputs": [
    {
     "data": {
      "text/markdown": [
       "{\n",
       "  \"mood\": \"disconnected\",\n",
       "  \"sentiement_score\": -0.6,\n",
       "  \"suggested_action\": \"try mindfulness meditation\"\n",
       "}"
      ],
      "text/plain": [
       "<IPython.core.display.Markdown object>"
      ]
     },
     "execution_count": 5,
     "metadata": {},
     "output_type": "execute_result"
    }
   ],
   "source": [
    "import typing_extensions as typing\n",
    "import json\n",
    "\n",
    "class classifyMoods(typing.TypedDict):\n",
    "    mood : str\n",
    "    sentiement_score : float\n",
    "    suggested_action : str\n",
    "    \n",
    "def analyzeMood(entryText):\n",
    "    few_shot_prompt = (\n",
    "            \"You are a mental health assistant powered by Google’s Gemini model. \"\n",
    "            \"Here are some examples:\\n\\n\"\n",
    "            \"Example 1:\\n\"\n",
    "            \"Entry: 'I'm feeling overwhelmed with work and stress.'\\n\"\n",
    "            \"Output: {\\\"mood\\\": \\\"stressed\\\", \\\"sentiment_score\\\": -0.8, \\\"suggested_action\\\": \\\"try a short breathing exercise\\\"}\\n\\n\"\n",
    "            \"Example 2:\\n\"\n",
    "            \"Entry: 'I woke up feeling joyful and grateful today.'\\n\"\n",
    "            \"Output: {\\\"mood\\\": \\\"positive\\\", \\\"sentiment_score\\\": 0.7, \\\"suggested_action\\\": \\\"write a gratitude note\\\"}\\n\\n\"\n",
    "            \"Now, classify the following entry:\\n\"\n",
    "             \"Entry: \\\"{entry_text}\\\"\\n\"\n",
    "            \"Output:\"\n",
    "        )\n",
    "    \n",
    "\n",
    "    reply = client.models.generate_content(\n",
    "        model = 'gemini-2.0-flash',\n",
    "        config = types.GenerateContentConfig(\n",
    "            temperature = 1.0,\n",
    "            top_p = 0.69,\n",
    "            response_mime_type=\"application/json\",\n",
    "            response_schema=classifyMoods,\n",
    "        ),\n",
    "        contents = [entryText,few_shot_prompt],\n",
    "    )\n",
    "\n",
    "    return reply\n",
    "\n",
    "text = \"I’m feeling overwhelmed and disconnected from everything lately.\"\n",
    "#try changing it into \"im feeling anxious\"\n",
    "user_mood = analyzeMood(text).text.strip()\n",
    "moods_data = json.loads(user_mood)\n",
    "\n",
    "Markdown(user_mood)"
   ]
  },
  {
   "cell_type": "code",
   "execution_count": 6,
   "id": "8a1b494e",
   "metadata": {
    "execution": {
     "iopub.execute_input": "2025-04-16T03:08:10.245801Z",
     "iopub.status.busy": "2025-04-16T03:08:10.245437Z",
     "iopub.status.idle": "2025-04-16T03:08:11.583409Z",
     "shell.execute_reply": "2025-04-16T03:08:11.582377Z"
    },
    "jupyter": {
     "source_hidden": true
    },
    "papermill": {
     "duration": 1.348002,
     "end_time": "2025-04-16T03:08:11.585288",
     "exception": false,
     "start_time": "2025-04-16T03:08:10.237286",
     "status": "completed"
    },
    "tags": []
   },
   "outputs": [
    {
     "data": {
      "text/markdown": [
       "I hear you. Feeling overwhelmed and disconnected can be really draining. It's completely understandable that you're feeling this way. Would you like to explore what might be contributing to these feelings? Sometimes, when we feel disconnected, it helps to gently reconnect with our senses. Perhaps try a quick mindfulness exercise: Take a moment to notice five things you can see, four things you can touch, three things you can hear, two things you can smell, and one thing you can taste. This can"
      ],
      "text/plain": [
       "<IPython.core.display.Markdown object>"
      ]
     },
     "execution_count": 6,
     "metadata": {},
     "output_type": "execute_result"
    }
   ],
   "source": [
    "def generate_supportive_response(entry_text):\n",
    "    prompt = f\"\"\"You are a caring mental health companion. Provide a supportive, empathetic response \n",
    "    to this journal entry, offering a brief mindfulness or CBT-based suggestion.\n",
    "    EXAMPLES = {\n",
    "  {\n",
    "    \"input\": \"I'm feeling overwhelmed with work.\",\n",
    "    \"response\": \"That sounds really tough. It's okay to feel overwhelmed sometimes. Do you want to talk more about what's stressing you out?\"\n",
    "  },\n",
    "  {\n",
    "    \"input\": \"I'm doing okay, just tired.\",\n",
    "    \"response\": \"Thanks for sharing. It's okay to have low energy days. Maybe a little rest and kindness toward yourself would help.\"\n",
    "  },\n",
    "  {\n",
    "    \"input\": \"I can't focus and I feel anxious.\",\n",
    "    \"response\": \"That sounds like you're under a lot of pressure. Let's take a deep breath together. You're not alone in this.\"\n",
    "  }\n",
    "  }\n",
    "    Journal Entry: \"{entry_text}\".\n",
    "    \"\"\"\n",
    "    response = client.models.generate_content(\n",
    "        model='gemini-2.0-flash',\n",
    "        config = types.GenerateContentConfig(\n",
    "            max_output_tokens=100,\n",
    "            top_p = 0.5,\n",
    "            temperature = 1\n",
    "        ),\n",
    "        contents=prompt\n",
    "    )\n",
    "    \n",
    "    return response\n",
    "\n",
    "query = generate_supportive_response(text)\n",
    "Markdown(query.text.strip())\n"
   ]
  },
  {
   "cell_type": "code",
   "execution_count": 7,
   "id": "643a246a",
   "metadata": {
    "execution": {
     "iopub.execute_input": "2025-04-16T03:08:11.606483Z",
     "iopub.status.busy": "2025-04-16T03:08:11.606183Z",
     "iopub.status.idle": "2025-04-16T03:08:13.703293Z",
     "shell.execute_reply": "2025-04-16T03:08:13.701370Z"
    },
    "jupyter": {
     "source_hidden": true
    },
    "papermill": {
     "duration": 2.10995,
     "end_time": "2025-04-16T03:08:13.707341",
     "exception": false,
     "start_time": "2025-04-16T03:08:11.597391",
     "status": "completed"
    },
    "tags": []
   },
   "outputs": [
    {
     "name": "stdout",
     "output_type": "stream",
     "text": [
      "sucessfully loaded\n"
     ]
    }
   ],
   "source": [
    "DOCUMENT1 = \"\"\"Breathing Exercise for Anxiety Relief  \n",
    "When you're feeling anxious or overwhelmed, a simple breathing exercise can help calm your mind. \n",
    "Try this: Inhale slowly for 4 seconds, hold your breath for 4 seconds, exhale slowly for 4 seconds, then hold again for 4 seconds. \n",
    "Repeat this cycle a few times. This technique helps regulate your nervous system and promotes a sense of control.\"\"\"\n",
    "\n",
    "DOCUMENT2 = \"\"\"Practicing Gratitude  \n",
    "Gratitude can improve your overall mood and shift your focus away from negative thoughts. \n",
    "Each morning or evening, try writing down 3 things you're grateful for — big or small. \n",
    "Over time, this simple habit can boost happiness and reduce stress.\"\"\"\n",
    "\n",
    "DOCUMENT3 = \"\"\"Taking Breaks When You're Mentally Drained  \n",
    "It's okay to pause when your brain feels foggy or tired. \n",
    "Step away from what you're doing and give yourself a 5–10 minute break. \n",
    "Stretch, drink water, or go for a short walk. These small resets can improve focus and reduce burnout over time.\"\"\"\n",
    "\n",
    "documents = [DOCUMENT1, DOCUMENT2, DOCUMENT3]\n",
    "\n",
    "import pandas as pd\n",
    "\n",
    "# Load your actual wellness tips dataset\n",
    "df = pd.read_json(\"/kaggle/input/wellness-tips/wellness_tips.json\")\n",
    "\n",
    "# Convert rows into list of string tips (document style)\n",
    "document = [row[\"tip\"] for _, row in df.iterrows()]\n",
    "print(\"sucessfully loaded\")"
   ]
  },
  {
   "cell_type": "code",
   "execution_count": 8,
   "id": "f95433de",
   "metadata": {
    "execution": {
     "iopub.execute_input": "2025-04-16T03:08:13.732187Z",
     "iopub.status.busy": "2025-04-16T03:08:13.731710Z",
     "iopub.status.idle": "2025-04-16T03:08:14.527593Z",
     "shell.execute_reply": "2025-04-16T03:08:14.526278Z"
    },
    "jupyter": {
     "source_hidden": true
    },
    "papermill": {
     "duration": 0.811766,
     "end_time": "2025-04-16T03:08:14.529315",
     "exception": false,
     "start_time": "2025-04-16T03:08:13.717549",
     "status": "completed"
    },
    "tags": []
   },
   "outputs": [
    {
     "name": "stdout",
     "output_type": "stream",
     "text": [
      "Success\n"
     ]
    }
   ],
   "source": [
    "from chromadb import Documents, EmbeddingFunction, Embeddings\n",
    "from google.api_core import retry\n",
    "\n",
    "from google.genai import types\n",
    "\n",
    "\n",
    "# Define a helper to retry when per-minute quota is reached.\n",
    "is_retriable = lambda e: (isinstance(e, genai.errors.APIError) and e.code in {429, 503})\n",
    "\n",
    "\n",
    "class GeminiEmbeddingFunction(EmbeddingFunction):\n",
    "    # Specify whether to generate embeddings for documents, or queries\n",
    "    document_mode = True\n",
    "\n",
    "    @retry.Retry(predicate=is_retriable)\n",
    "    def __call__(self, input: Documents) -> Embeddings:\n",
    "        if self.document_mode:\n",
    "            embedding_task = \"retrieval_document\"\n",
    "        else:\n",
    "            embedding_task = \"retrieval_query\"\n",
    "\n",
    "        response = client.models.embed_content(\n",
    "            model=\"models/text-embedding-004\",\n",
    "            contents=input,\n",
    "            config=types.EmbedContentConfig(\n",
    "                task_type=embedding_task,\n",
    "            ),\n",
    "        )\n",
    "        return [e.values for e in response.embeddings]\n",
    "        \n",
    "print(\"Success\")"
   ]
  },
  {
   "cell_type": "code",
   "execution_count": 9,
   "id": "09bec865",
   "metadata": {
    "execution": {
     "iopub.execute_input": "2025-04-16T03:08:14.543241Z",
     "iopub.status.busy": "2025-04-16T03:08:14.542869Z",
     "iopub.status.idle": "2025-04-16T03:08:15.281053Z",
     "shell.execute_reply": "2025-04-16T03:08:15.279804Z"
    },
    "jupyter": {
     "source_hidden": true
    },
    "papermill": {
     "duration": 0.747619,
     "end_time": "2025-04-16T03:08:15.283383",
     "exception": false,
     "start_time": "2025-04-16T03:08:14.535764",
     "status": "completed"
    },
    "tags": []
   },
   "outputs": [],
   "source": [
    "# Adding Data to database\n",
    "import chromadb\n",
    "\n",
    "DB_NAME = \"googlecardb\"\n",
    "\n",
    "embed_fn = GeminiEmbeddingFunction()\n",
    "embed_fn.document_mode = True\n",
    "\n",
    "chroma_client = chromadb.Client()\n",
    "db = chroma_client.get_or_create_collection(name=DB_NAME, embedding_function=embed_fn)\n",
    "\n",
    "db.add(documents=documents, ids=[str(i) for i in range(len(documents))])"
   ]
  },
  {
   "cell_type": "code",
   "execution_count": 10,
   "id": "4cebcf18",
   "metadata": {
    "execution": {
     "iopub.execute_input": "2025-04-16T03:08:15.298606Z",
     "iopub.status.busy": "2025-04-16T03:08:15.298275Z",
     "iopub.status.idle": "2025-04-16T03:08:15.578617Z",
     "shell.execute_reply": "2025-04-16T03:08:15.577449Z"
    },
    "jupyter": {
     "source_hidden": true
    },
    "papermill": {
     "duration": 0.290118,
     "end_time": "2025-04-16T03:08:15.580452",
     "exception": false,
     "start_time": "2025-04-16T03:08:15.290334",
     "status": "completed"
    },
    "tags": []
   },
   "outputs": [
    {
     "data": {
      "text/markdown": [
       "Taking Breaks When You're Mentally Drained  \n",
       "It's okay to pause when your brain feels foggy or tired. \n",
       "Step away from what you're doing and give yourself a 5–10 minute break. \n",
       "Stretch, drink water, or go for a short walk. These small resets can improve focus and reduce burnout over time."
      ],
      "text/plain": [
       "<IPython.core.display.Markdown object>"
      ]
     },
     "execution_count": 10,
     "metadata": {},
     "output_type": "execute_result"
    }
   ],
   "source": [
    "# Switch to query mode when generating embeddings.\n",
    "embed_fn.document_mode = False\n",
    "\n",
    "# Search the Chroma DB using the specified query.\n",
    "mood = moods_data[\"mood\"]\n",
    "query = f\"I'm feeling { mood }, what can I do?\"\n",
    "\n",
    "result = db.query(query_texts=[query], n_results=1)\n",
    "[all_passages] = result[\"documents\"]\n",
    "\n",
    "Markdown(all_passages[0])"
   ]
  },
  {
   "cell_type": "code",
   "execution_count": 11,
   "id": "16bef1dc",
   "metadata": {
    "execution": {
     "iopub.execute_input": "2025-04-16T03:08:15.595275Z",
     "iopub.status.busy": "2025-04-16T03:08:15.594264Z",
     "iopub.status.idle": "2025-04-16T03:08:15.601166Z",
     "shell.execute_reply": "2025-04-16T03:08:15.600011Z"
    },
    "jupyter": {
     "source_hidden": true
    },
    "papermill": {
     "duration": 0.016393,
     "end_time": "2025-04-16T03:08:15.603188",
     "exception": false,
     "start_time": "2025-04-16T03:08:15.586795",
     "status": "completed"
    },
    "tags": []
   },
   "outputs": [
    {
     "name": "stdout",
     "output_type": "stream",
     "text": [
      "You are a compassionate and friendly mental health assistant. \n",
      "Use the reference passage below to suggest helpful actions based on the user's mood. \n",
      "Respond in a supportive and conversational tone, avoiding technical jargon. \n",
      "Offer clear, relatable advice that's easy to follow. \n",
      "If the passage doesn't help answer the question, it's okay to skip it.\n",
      "\n",
      "QUESTION: I'm feeling disconnected, what can I do?\n",
      "PASSAGE: Taking Breaks When You're Mentally Drained   It's okay to pause when your brain feels foggy or tired.  Step away from what you're doing and give yourself a 5–10 minute break.  Stretch, drink water, or go for a short walk. These small resets can improve focus and reduce burnout over time.\n",
      "\n"
     ]
    }
   ],
   "source": [
    "query_oneline = query.replace(\"\\n\", \" \")\n",
    "\n",
    "# This prompt is where you can specify any guidance on tone, or what topics the model should stick to, or avoid.\n",
    "prompt = f\"\"\"You are a compassionate and friendly mental health assistant. \n",
    "Use the reference passage below to suggest helpful actions based on the user's mood. \n",
    "Respond in a supportive and conversational tone, avoiding technical jargon. \n",
    "Offer clear, relatable advice that's easy to follow. \n",
    "If the passage doesn't help answer the question, it's okay to skip it.\n",
    "\n",
    "QUESTION: {query_oneline}\n",
    "\"\"\"\n",
    "\n",
    "\n",
    "# Add the retrieved documents to the prompt.\n",
    "for passage in all_passages:\n",
    "    passage_oneline = passage.replace(\"\\n\", \" \")\n",
    "    prompt += f\"PASSAGE: {passage_oneline}\\n\"\n",
    "\n",
    "print(prompt)"
   ]
  },
  {
   "cell_type": "code",
   "execution_count": 12,
   "id": "e05a0b0c",
   "metadata": {
    "execution": {
     "iopub.execute_input": "2025-04-16T03:08:15.619287Z",
     "iopub.status.busy": "2025-04-16T03:08:15.618942Z",
     "iopub.status.idle": "2025-04-16T03:08:16.899069Z",
     "shell.execute_reply": "2025-04-16T03:08:16.898011Z"
    },
    "jupyter": {
     "source_hidden": true
    },
    "papermill": {
     "duration": 1.290623,
     "end_time": "2025-04-16T03:08:16.901315",
     "exception": false,
     "start_time": "2025-04-16T03:08:15.610692",
     "status": "completed"
    },
    "tags": []
   },
   "outputs": [
    {
     "data": {
      "text/markdown": [
       "Hey, I hear you. Feeling disconnected can be a real drag. It sounds like you need a little reset. The good news is, even small things can help!\n",
       "\n",
       "How about trying a quick break? Seriously, even just 5-10 minutes can make a difference. Maybe step away from whatever you're doing, stretch your arms above your head, and take a few deep breaths. Grabbing a glass of water or taking a short walk could also help you feel a bit more grounded. Sometimes, just a change of scenery is all it takes to shake off that disconnected feeling. Let me know if you want to explore other options too!\n"
      ],
      "text/plain": [
       "<IPython.core.display.Markdown object>"
      ]
     },
     "execution_count": 12,
     "metadata": {},
     "output_type": "execute_result"
    }
   ],
   "source": [
    "answer = client.models.generate_content(\n",
    "    model=\"gemini-2.0-flash\",\n",
    "    contents=prompt)\n",
    "\n",
    "Markdown(answer.text)"
   ]
  }
 ],
 "metadata": {
  "kaggle": {
   "accelerator": "none",
   "dataSources": [
    {
     "datasetId": 7134910,
     "sourceId": 11392717,
     "sourceType": "datasetVersion"
    }
   ],
   "dockerImageVersionId": 31012,
   "isGpuEnabled": false,
   "isInternetEnabled": true,
   "language": "python",
   "sourceType": "notebook"
  },
  "kernelspec": {
   "display_name": "Python 3",
   "language": "python",
   "name": "python3"
  },
  "language_info": {
   "codemirror_mode": {
    "name": "ipython",
    "version": 3
   },
   "file_extension": ".py",
   "mimetype": "text/x-python",
   "name": "python",
   "nbconvert_exporter": "python",
   "pygments_lexer": "ipython3",
   "version": "3.11.11"
  },
  "papermill": {
   "default_parameters": {},
   "duration": 61.819748,
   "end_time": "2025-04-16T03:08:18.236691",
   "environment_variables": {},
   "exception": null,
   "input_path": "__notebook__.ipynb",
   "output_path": "__notebook__.ipynb",
   "parameters": {},
   "start_time": "2025-04-16T03:07:16.416943",
   "version": "2.6.0"
  }
 },
 "nbformat": 4,
 "nbformat_minor": 5
}
